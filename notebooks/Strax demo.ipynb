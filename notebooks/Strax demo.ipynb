{
 "cells": [
  {
   "cell_type": "markdown",
   "metadata": {},
   "source": [
    "# Strax analysis demonstration"
   ]
  },
  {
   "cell_type": "markdown",
   "metadata": {},
   "source": [
    "Jelle, May 2018\n",
    "\n",
    "This notebook shows how to do basic high-level analysis with strax, much like `hax.minitrees`."
   ]
  },
  {
   "cell_type": "markdown",
   "metadata": {},
   "source": [
    "For reference, here are some jargon terms which we will introduce below:\n",
    "\n",
    "  * **Context**: Holds configuration on how to process\n",
    "  * **Dataframe** or **array**: table of related information produced by a plugin.\n",
    "  * **Plugin**: an algorithm that produces a dataframe\n",
    "  * **Data type**: specification of which columns are in a dataframe. \n",
    "  * **Data kind**: e.g. 'events' or 'peaks'. Dataframes of the same kind  have the same number of rows and can be merged.\n"
   ]
  },
  {
   "cell_type": "markdown",
   "metadata": {},
   "source": [
    "## Setting up"
   ]
  },
  {
   "cell_type": "markdown",
   "metadata": {},
   "source": [
    "First we setup a strax **context**, much like `hax.init()`. A strax context contains all information on *how* to process: where to store what files, what plugins provide what data, etc. \n",
    "\n",
    "Unlike `hax.init`, you can have multiple active contexts, e.g. to load analysis and MC data, or compare data processed with different settings (we will see examples of this below).\n",
    "\n",
    "In the future, a contexts suitable for analysis should load from a config file (again like `hax.init`)."
   ]
  },
  {
   "cell_type": "code",
   "execution_count": 1,
   "metadata": {},
   "outputs": [],
   "source": [
    "import strax\n",
    "st = strax.Context(\n",
    "    storage=[strax.ZipFileStore('./processed'),\n",
    "             strax.FileStore('./custom_data')], \n",
    "    register_all=strax.xenon.plugins)\n",
    "\n",
    "run_id = '180423_1021'"
   ]
  },
  {
   "cell_type": "code",
   "execution_count": 2,
   "metadata": {},
   "outputs": [],
   "source": [
    "import numpy as np\n",
    "# This just ensures some comments in dataframes below display nicely\n",
    "import pandas as pd\n",
    "pd.options.display.max_colwidth = 100"
   ]
  },
  {
   "cell_type": "markdown",
   "metadata": {},
   "source": [
    "## Finding your data"
   ]
  },
  {
   "cell_type": "markdown",
   "metadata": {},
   "source": [
    "Suposse we want to make an S1/S2 plot. We have to figure out which type of **dataframes** to load. A specific type of dataframe is also called a **data type**. (in hax these were called minitrees)\n",
    "\n",
    "Unlike hax, we can find this out automatically:"
   ]
  },
  {
   "cell_type": "code",
   "execution_count": 3,
   "metadata": {
    "scrolled": true
   },
   "outputs": [
    {
     "name": "stdout",
     "output_type": "stream",
     "text": [
      "s1_index is part of event_basics (provided by EventBasics)\n",
      "s1_area is part of event_basics (provided by EventBasics)\n",
      "s1_area_fraction_top is part of event_basics (provided by EventBasics)\n",
      "s1_range_50p_area is part of event_basics (provided by EventBasics)\n",
      "s1_n_competing is part of event_basics (provided by EventBasics)\n"
     ]
    }
   ],
   "source": [
    "st.search_field('s1*')"
   ]
  },
  {
   "cell_type": "markdown",
   "metadata": {},
   "source": [
    "It seems we're after a dataframe called event_basics. In the current context, this is provided by a **plugin** called EventBasics (but this doesn't concern us yet). Let's see what else is in event_basics:"
   ]
  },
  {
   "cell_type": "code",
   "execution_count": 4,
   "metadata": {},
   "outputs": [
    {
     "data": {
      "text/html": [
       "<div>\n",
       "<style scoped>\n",
       "    .dataframe tbody tr th:only-of-type {\n",
       "        vertical-align: middle;\n",
       "    }\n",
       "\n",
       "    .dataframe tbody tr th {\n",
       "        vertical-align: top;\n",
       "    }\n",
       "\n",
       "    .dataframe thead th {\n",
       "        text-align: right;\n",
       "    }\n",
       "</style>\n",
       "<table border=\"1\" class=\"dataframe\">\n",
       "  <thead>\n",
       "    <tr style=\"text-align: right;\">\n",
       "      <th></th>\n",
       "      <th>Field name</th>\n",
       "      <th>Data type</th>\n",
       "      <th>Comment</th>\n",
       "    </tr>\n",
       "  </thead>\n",
       "  <tbody>\n",
       "    <tr>\n",
       "      <th>0</th>\n",
       "      <td>n_peaks</td>\n",
       "      <td>int32</td>\n",
       "      <td>Number of peaks in the event</td>\n",
       "    </tr>\n",
       "    <tr>\n",
       "      <th>1</th>\n",
       "      <td>drift_time</td>\n",
       "      <td>int64</td>\n",
       "      <td>Drift time between main S1 and S2 in ns</td>\n",
       "    </tr>\n",
       "    <tr>\n",
       "      <th>2</th>\n",
       "      <td>s1_index</td>\n",
       "      <td>int32</td>\n",
       "      <td>Main S1 peak index</td>\n",
       "    </tr>\n",
       "    <tr>\n",
       "      <th>3</th>\n",
       "      <td>s1_area</td>\n",
       "      <td>float32</td>\n",
       "      <td>Main S1 area (PE)</td>\n",
       "    </tr>\n",
       "    <tr>\n",
       "      <th>4</th>\n",
       "      <td>s1_area_fraction_top</td>\n",
       "      <td>float32</td>\n",
       "      <td>Main S1 area fraction top</td>\n",
       "    </tr>\n",
       "    <tr>\n",
       "      <th>5</th>\n",
       "      <td>s1_range_50p_area</td>\n",
       "      <td>float32</td>\n",
       "      <td>Main S1 width (ns, 50% area)</td>\n",
       "    </tr>\n",
       "    <tr>\n",
       "      <th>6</th>\n",
       "      <td>s1_n_competing</td>\n",
       "      <td>int32</td>\n",
       "      <td>Main S1 number of competing peaks</td>\n",
       "    </tr>\n",
       "    <tr>\n",
       "      <th>7</th>\n",
       "      <td>s2_index</td>\n",
       "      <td>int32</td>\n",
       "      <td>Main S2 peak index</td>\n",
       "    </tr>\n",
       "    <tr>\n",
       "      <th>8</th>\n",
       "      <td>s2_area</td>\n",
       "      <td>float32</td>\n",
       "      <td>Main S2 area (PE)</td>\n",
       "    </tr>\n",
       "    <tr>\n",
       "      <th>9</th>\n",
       "      <td>s2_area_fraction_top</td>\n",
       "      <td>float32</td>\n",
       "      <td>Main S2 area fraction top</td>\n",
       "    </tr>\n",
       "    <tr>\n",
       "      <th>10</th>\n",
       "      <td>s2_range_50p_area</td>\n",
       "      <td>float32</td>\n",
       "      <td>Main S2 width (ns, 50% area)</td>\n",
       "    </tr>\n",
       "    <tr>\n",
       "      <th>11</th>\n",
       "      <td>s2_n_competing</td>\n",
       "      <td>int32</td>\n",
       "      <td>Main S2 number of competing peaks</td>\n",
       "    </tr>\n",
       "  </tbody>\n",
       "</table>\n",
       "</div>"
      ],
      "text/plain": [
       "              Field name Data type                                  Comment\n",
       "0                n_peaks     int32             Number of peaks in the event\n",
       "1             drift_time     int64  Drift time between main S1 and S2 in ns\n",
       "2               s1_index     int32                       Main S1 peak index\n",
       "3                s1_area   float32                        Main S1 area (PE)\n",
       "4   s1_area_fraction_top   float32                Main S1 area fraction top\n",
       "5      s1_range_50p_area   float32             Main S1 width (ns, 50% area)\n",
       "6         s1_n_competing     int32        Main S1 number of competing peaks\n",
       "7               s2_index     int32                       Main S2 peak index\n",
       "8                s2_area   float32                        Main S2 area (PE)\n",
       "9   s2_area_fraction_top   float32                Main S2 area fraction top\n",
       "10     s2_range_50p_area   float32             Main S2 width (ns, 50% area)\n",
       "11        s2_n_competing     int32        Main S2 number of competing peaks"
      ]
     },
     "execution_count": 4,
     "metadata": {},
     "output_type": "execute_result"
    }
   ],
   "source": [
    "st.data_info('event_basics')"
   ]
  },
  {
   "cell_type": "markdown",
   "metadata": {},
   "source": [
    "This looks like what we're after. Let's load it!"
   ]
  },
  {
   "cell_type": "markdown",
   "metadata": {},
   "source": [
    "## Loading data"
   ]
  },
  {
   "cell_type": "code",
   "execution_count": 5,
   "metadata": {},
   "outputs": [
    {
     "data": {
      "text/html": [
       "<div>\n",
       "<style scoped>\n",
       "    .dataframe tbody tr th:only-of-type {\n",
       "        vertical-align: middle;\n",
       "    }\n",
       "\n",
       "    .dataframe tbody tr th {\n",
       "        vertical-align: top;\n",
       "    }\n",
       "\n",
       "    .dataframe thead th {\n",
       "        text-align: right;\n",
       "    }\n",
       "</style>\n",
       "<table border=\"1\" class=\"dataframe\">\n",
       "  <thead>\n",
       "    <tr style=\"text-align: right;\">\n",
       "      <th></th>\n",
       "      <th>time</th>\n",
       "      <th>endtime</th>\n",
       "      <th>area</th>\n",
       "      <th>n_channels</th>\n",
       "      <th>max_pmt</th>\n",
       "      <th>range_50p_area</th>\n",
       "      <th>area_fraction_top</th>\n",
       "      <th>length</th>\n",
       "      <th>dt</th>\n",
       "    </tr>\n",
       "  </thead>\n",
       "  <tbody>\n",
       "    <tr>\n",
       "      <th>0</th>\n",
       "      <td>1524478928003777410</td>\n",
       "      <td>1524478928003777650</td>\n",
       "      <td>5.40835</td>\n",
       "      <td>2</td>\n",
       "      <td>31</td>\n",
       "      <td>53.365131</td>\n",
       "      <td>1.0</td>\n",
       "      <td>24</td>\n",
       "      <td>10</td>\n",
       "    </tr>\n",
       "    <tr>\n",
       "      <th>1</th>\n",
       "      <td>1524478928003790470</td>\n",
       "      <td>1524478928003791150</td>\n",
       "      <td>6.02761</td>\n",
       "      <td>1</td>\n",
       "      <td>31</td>\n",
       "      <td>369.312500</td>\n",
       "      <td>1.0</td>\n",
       "      <td>68</td>\n",
       "      <td>10</td>\n",
       "    </tr>\n",
       "    <tr>\n",
       "      <th>2</th>\n",
       "      <td>1524478928003794060</td>\n",
       "      <td>1524478928003794600</td>\n",
       "      <td>4.29824</td>\n",
       "      <td>1</td>\n",
       "      <td>31</td>\n",
       "      <td>117.333336</td>\n",
       "      <td>1.0</td>\n",
       "      <td>54</td>\n",
       "      <td>10</td>\n",
       "    </tr>\n",
       "    <tr>\n",
       "      <th>3</th>\n",
       "      <td>1524478928013163810</td>\n",
       "      <td>1524478928013164390</td>\n",
       "      <td>-0.11865</td>\n",
       "      <td>0</td>\n",
       "      <td>0</td>\n",
       "      <td>0.000000</td>\n",
       "      <td>0.0</td>\n",
       "      <td>58</td>\n",
       "      <td>10</td>\n",
       "    </tr>\n",
       "    <tr>\n",
       "      <th>4</th>\n",
       "      <td>1524478928028489120</td>\n",
       "      <td>1524478928028489490</td>\n",
       "      <td>2.46400</td>\n",
       "      <td>1</td>\n",
       "      <td>28</td>\n",
       "      <td>103.688721</td>\n",
       "      <td>1.0</td>\n",
       "      <td>37</td>\n",
       "      <td>10</td>\n",
       "    </tr>\n",
       "  </tbody>\n",
       "</table>\n",
       "</div>"
      ],
      "text/plain": [
       "                  time              endtime     area  n_channels  max_pmt  \\\n",
       "0  1524478928003777410  1524478928003777650  5.40835           2       31   \n",
       "1  1524478928003790470  1524478928003791150  6.02761           1       31   \n",
       "2  1524478928003794060  1524478928003794600  4.29824           1       31   \n",
       "3  1524478928013163810  1524478928013164390 -0.11865           0        0   \n",
       "4  1524478928028489120  1524478928028489490  2.46400           1       28   \n",
       "\n",
       "   range_50p_area  area_fraction_top  length  dt  \n",
       "0       53.365131                1.0      24  10  \n",
       "1      369.312500                1.0      68  10  \n",
       "2      117.333336                1.0      54  10  \n",
       "3        0.000000                0.0      58  10  \n",
       "4      103.688721                1.0      37  10  "
      ]
     },
     "execution_count": 5,
     "metadata": {},
     "output_type": "execute_result"
    }
   ],
   "source": [
    "df = st.get_df(run_id, 'peak_basics')\n",
    "df.head()"
   ]
  },
  {
   "cell_type": "code",
   "execution_count": 6,
   "metadata": {
    "scrolled": false
   },
   "outputs": [
    {
     "data": {
      "text/html": [
       "<div>\n",
       "<style scoped>\n",
       "    .dataframe tbody tr th:only-of-type {\n",
       "        vertical-align: middle;\n",
       "    }\n",
       "\n",
       "    .dataframe tbody tr th {\n",
       "        vertical-align: top;\n",
       "    }\n",
       "\n",
       "    .dataframe thead th {\n",
       "        text-align: right;\n",
       "    }\n",
       "</style>\n",
       "<table border=\"1\" class=\"dataframe\">\n",
       "  <thead>\n",
       "    <tr style=\"text-align: right;\">\n",
       "      <th></th>\n",
       "      <th>n_peaks</th>\n",
       "      <th>drift_time</th>\n",
       "      <th>s1_index</th>\n",
       "      <th>s1_area</th>\n",
       "      <th>s1_area_fraction_top</th>\n",
       "      <th>s1_range_50p_area</th>\n",
       "      <th>s1_n_competing</th>\n",
       "      <th>s2_index</th>\n",
       "      <th>s2_area</th>\n",
       "      <th>s2_area_fraction_top</th>\n",
       "      <th>s2_range_50p_area</th>\n",
       "      <th>s2_n_competing</th>\n",
       "    </tr>\n",
       "  </thead>\n",
       "  <tbody>\n",
       "    <tr>\n",
       "      <th>0</th>\n",
       "      <td>84</td>\n",
       "      <td>2940</td>\n",
       "      <td>0</td>\n",
       "      <td>1629.890869</td>\n",
       "      <td>0.205285</td>\n",
       "      <td>86.479416</td>\n",
       "      <td>1</td>\n",
       "      <td>1</td>\n",
       "      <td>136096.343750</td>\n",
       "      <td>0.378580</td>\n",
       "      <td>433.736755</td>\n",
       "      <td>0</td>\n",
       "    </tr>\n",
       "    <tr>\n",
       "      <th>1</th>\n",
       "      <td>15</td>\n",
       "      <td>103270</td>\n",
       "      <td>0</td>\n",
       "      <td>401.322205</td>\n",
       "      <td>0.196426</td>\n",
       "      <td>69.702011</td>\n",
       "      <td>1</td>\n",
       "      <td>3</td>\n",
       "      <td>13369.269531</td>\n",
       "      <td>0.546324</td>\n",
       "      <td>843.817993</td>\n",
       "      <td>0</td>\n",
       "    </tr>\n",
       "    <tr>\n",
       "      <th>2</th>\n",
       "      <td>16</td>\n",
       "      <td>483730</td>\n",
       "      <td>0</td>\n",
       "      <td>794.515259</td>\n",
       "      <td>0.084406</td>\n",
       "      <td>78.112076</td>\n",
       "      <td>1</td>\n",
       "      <td>2</td>\n",
       "      <td>6464.726562</td>\n",
       "      <td>0.635830</td>\n",
       "      <td>1952.140015</td>\n",
       "      <td>0</td>\n",
       "    </tr>\n",
       "    <tr>\n",
       "      <th>3</th>\n",
       "      <td>51</td>\n",
       "      <td>2640</td>\n",
       "      <td>0</td>\n",
       "      <td>1254.426514</td>\n",
       "      <td>0.203498</td>\n",
       "      <td>87.375359</td>\n",
       "      <td>1</td>\n",
       "      <td>2</td>\n",
       "      <td>99862.992188</td>\n",
       "      <td>0.449642</td>\n",
       "      <td>463.504181</td>\n",
       "      <td>0</td>\n",
       "    </tr>\n",
       "    <tr>\n",
       "      <th>4</th>\n",
       "      <td>5</td>\n",
       "      <td>0</td>\n",
       "      <td>0</td>\n",
       "      <td>3112.624023</td>\n",
       "      <td>0.070859</td>\n",
       "      <td>82.368095</td>\n",
       "      <td>0</td>\n",
       "      <td>-1</td>\n",
       "      <td>0.000000</td>\n",
       "      <td>0.000000</td>\n",
       "      <td>0.000000</td>\n",
       "      <td>0</td>\n",
       "    </tr>\n",
       "  </tbody>\n",
       "</table>\n",
       "</div>"
      ],
      "text/plain": [
       "   n_peaks  drift_time  s1_index      s1_area  s1_area_fraction_top  \\\n",
       "0       84        2940         0  1629.890869              0.205285   \n",
       "1       15      103270         0   401.322205              0.196426   \n",
       "2       16      483730         0   794.515259              0.084406   \n",
       "3       51        2640         0  1254.426514              0.203498   \n",
       "4        5           0         0  3112.624023              0.070859   \n",
       "\n",
       "   s1_range_50p_area  s1_n_competing  s2_index        s2_area  \\\n",
       "0          86.479416               1         1  136096.343750   \n",
       "1          69.702011               1         3   13369.269531   \n",
       "2          78.112076               1         2    6464.726562   \n",
       "3          87.375359               1         2   99862.992188   \n",
       "4          82.368095               0        -1       0.000000   \n",
       "\n",
       "   s2_area_fraction_top  s2_range_50p_area  s2_n_competing  \n",
       "0              0.378580         433.736755               0  \n",
       "1              0.546324         843.817993               0  \n",
       "2              0.635830        1952.140015               0  \n",
       "3              0.449642         463.504181               0  \n",
       "4              0.000000           0.000000               0  "
      ]
     },
     "execution_count": 6,
     "metadata": {},
     "output_type": "execute_result"
    }
   ],
   "source": [
    "df = st.get_df(run_id, 'event_basics')\n",
    "df.head()"
   ]
  },
  {
   "cell_type": "code",
   "execution_count": 7,
   "metadata": {},
   "outputs": [],
   "source": [
    "import petl as etl\n",
    "import sqlite3\n",
    "#connection = sqlite3.connect('example.db')\n",
    "\n",
    "\n",
    "table = st.get_array(run_id, 'event_basics')\n",
    "table2 = etl.fromarray(table)\n",
    "#etl.todb(table, connection, 'foobar3', create=True)\n"
   ]
  },
  {
   "cell_type": "code",
   "execution_count": 8,
   "metadata": {},
   "outputs": [
    {
     "name": "stderr",
     "output_type": "stream",
     "text": [
      "/Users/tunnell/Work/anaconda/envs/strax/lib/python3.6/site-packages/psycopg2/__init__.py:144: UserWarning: The psycopg2 wheel package will be renamed from release 2.8; in order to keep installing from binary please use \"pip install psycopg2-binary\" instead. For details see: <http://initd.org/psycopg/docs/install.html#binary-install-from-pypi>.\n",
      "  \"\"\")\n"
     ]
    }
   ],
   "source": [
    "from psycopg2.extensions import register_adapter, AsIs\n",
    "import numpy as np\n",
    "\n",
    "\n",
    "for typ in ['int8', 'int16', 'int32', 'int64',\n",
    "            'float16', 'float32', 'float64', 'float128']:\n",
    "    register_adapter(np.__getattribute__(typ), AsIs)"
   ]
  },
  {
   "cell_type": "code",
   "execution_count": 9,
   "metadata": {},
   "outputs": [],
   "source": [
    "import psycopg2\n",
    "connection = psycopg2.connect(dbname='dev',\n",
    "                    user='tunnell',\n",
    "                    host='devtest.ckalpnpalbhp.us-east-1.rds.amazonaws.com',\n",
    "                    password='W1MPfinder',\n",
    "                    port=5432)"
   ]
  },
  {
   "cell_type": "code",
   "execution_count": 10,
   "metadata": {},
   "outputs": [],
   "source": [
    "table3 = etl.fromdataframe(df)\n",
    "etl.todb(table3, connection, 'foobar9',create=True)"
   ]
  },
  {
   "cell_type": "code",
   "execution_count": 25,
   "metadata": {},
   "outputs": [
    {
     "data": {
      "text/html": [
       "<table class='petl'>\n",
       "<thead>\n",
       "<tr>\n",
       "<th>n_peaks</th>\n",
       "<th>drift_time</th>\n",
       "<th>s1_index</th>\n",
       "<th>s1_area</th>\n",
       "<th>s1_area_fraction_top</th>\n",
       "<th>s1_range_50p_area</th>\n",
       "<th>s1_n_competing</th>\n",
       "<th>s2_index</th>\n",
       "<th>s2_area</th>\n",
       "<th>s2_area_fraction_top</th>\n",
       "<th>s2_range_50p_area</th>\n",
       "<th>s2_n_competing</th>\n",
       "</tr>\n",
       "</thead>\n",
       "<tbody>\n",
       "<tr>\n",
       "<td style='text-align: right'>84.0</td>\n",
       "<td style='text-align: right'>2940.0</td>\n",
       "<td style='text-align: right'>0.0</td>\n",
       "<td style='text-align: right'>1629.89086914062</td>\n",
       "<td style='text-align: right'>0.205284506082535</td>\n",
       "<td style='text-align: right'>86.4794158935547</td>\n",
       "<td style='text-align: right'>1.0</td>\n",
       "<td style='text-align: right'>1.0</td>\n",
       "<td style='text-align: right'>136096.34375</td>\n",
       "<td style='text-align: right'>0.37857985496521</td>\n",
       "<td style='text-align: right'>433.736755371094</td>\n",
       "<td style='text-align: right'>0.0</td>\n",
       "</tr>\n",
       "<tr>\n",
       "<td style='text-align: right'>15.0</td>\n",
       "<td style='text-align: right'>103270.0</td>\n",
       "<td style='text-align: right'>0.0</td>\n",
       "<td style='text-align: right'>401.322204589844</td>\n",
       "<td style='text-align: right'>0.196426436305046</td>\n",
       "<td style='text-align: right'>69.7020111083984</td>\n",
       "<td style='text-align: right'>1.0</td>\n",
       "<td style='text-align: right'>3.0</td>\n",
       "<td style='text-align: right'>13369.26953125</td>\n",
       "<td style='text-align: right'>0.546324193477631</td>\n",
       "<td style='text-align: right'>843.817993164062</td>\n",
       "<td style='text-align: right'>0.0</td>\n",
       "</tr>\n",
       "<tr>\n",
       "<td style='text-align: right'>16.0</td>\n",
       "<td style='text-align: right'>483730.0</td>\n",
       "<td style='text-align: right'>0.0</td>\n",
       "<td style='text-align: right'>794.515258789062</td>\n",
       "<td style='text-align: right'>0.0844061672687531</td>\n",
       "<td style='text-align: right'>78.1120758056641</td>\n",
       "<td style='text-align: right'>1.0</td>\n",
       "<td style='text-align: right'>2.0</td>\n",
       "<td style='text-align: right'>6464.7265625</td>\n",
       "<td style='text-align: right'>0.635829508304596</td>\n",
       "<td style='text-align: right'>1952.14001464844</td>\n",
       "<td style='text-align: right'>0.0</td>\n",
       "</tr>\n",
       "<tr>\n",
       "<td style='text-align: right'>51.0</td>\n",
       "<td style='text-align: right'>2640.0</td>\n",
       "<td style='text-align: right'>0.0</td>\n",
       "<td style='text-align: right'>1254.42651367188</td>\n",
       "<td style='text-align: right'>0.203497603535652</td>\n",
       "<td style='text-align: right'>87.375358581543</td>\n",
       "<td style='text-align: right'>1.0</td>\n",
       "<td style='text-align: right'>2.0</td>\n",
       "<td style='text-align: right'>99862.9921875</td>\n",
       "<td style='text-align: right'>0.449642449617386</td>\n",
       "<td style='text-align: right'>463.504180908203</td>\n",
       "<td style='text-align: right'>0.0</td>\n",
       "</tr>\n",
       "<tr>\n",
       "<td style='text-align: right'>5.0</td>\n",
       "<td style='text-align: right'>0.0</td>\n",
       "<td style='text-align: right'>0.0</td>\n",
       "<td style='text-align: right'>3112.6240234375</td>\n",
       "<td style='text-align: right'>0.0708590373396873</td>\n",
       "<td style='text-align: right'>82.3680953979492</td>\n",
       "<td style='text-align: right'>0.0</td>\n",
       "<td style='text-align: right'>-1.0</td>\n",
       "<td style='text-align: right'>0.0</td>\n",
       "<td style='text-align: right'>0.0</td>\n",
       "<td style='text-align: right'>0.0</td>\n",
       "<td style='text-align: right'>0.0</td>\n",
       "</tr>\n",
       "</tbody>\n",
       "</table>\n",
       "<p><strong>...</strong></p>"
      ],
      "text/plain": [
       "+---------+------------+----------+------------------+----------------------+-------------------+----------------+----------+----------------+----------------------+-------------------+----------------+\n",
       "| n_peaks | drift_time | s1_index | s1_area          | s1_area_fraction_top | s1_range_50p_area | s1_n_competing | s2_index | s2_area        | s2_area_fraction_top | s2_range_50p_area | s2_n_competing |\n",
       "+=========+============+==========+==================+======================+===================+================+==========+================+======================+===================+================+\n",
       "|    84.0 |     2940.0 |      0.0 | 1629.89086914062 |    0.205284506082535 |  86.4794158935547 |            1.0 |      1.0 |   136096.34375 |     0.37857985496521 |  433.736755371094 |            0.0 |\n",
       "+---------+------------+----------+------------------+----------------------+-------------------+----------------+----------+----------------+----------------------+-------------------+----------------+\n",
       "|    15.0 |   103270.0 |      0.0 | 401.322204589844 |    0.196426436305046 |  69.7020111083984 |            1.0 |      3.0 | 13369.26953125 |    0.546324193477631 |  843.817993164062 |            0.0 |\n",
       "+---------+------------+----------+------------------+----------------------+-------------------+----------------+----------+----------------+----------------------+-------------------+----------------+\n",
       "|    16.0 |   483730.0 |      0.0 | 794.515258789062 |   0.0844061672687531 |  78.1120758056641 |            1.0 |      2.0 |   6464.7265625 |    0.635829508304596 |  1952.14001464844 |            0.0 |\n",
       "+---------+------------+----------+------------------+----------------------+-------------------+----------------+----------+----------------+----------------------+-------------------+----------------+\n",
       "|    51.0 |     2640.0 |      0.0 | 1254.42651367188 |    0.203497603535652 |   87.375358581543 |            1.0 |      2.0 |  99862.9921875 |    0.449642449617386 |  463.504180908203 |            0.0 |\n",
       "+---------+------------+----------+------------------+----------------------+-------------------+----------------+----------+----------------+----------------------+-------------------+----------------+\n",
       "|     5.0 |        0.0 |      0.0 |  3112.6240234375 |   0.0708590373396873 |  82.3680953979492 |            0.0 |     -1.0 |            0.0 |                  0.0 |               0.0 |            0.0 |\n",
       "+---------+------------+----------+------------------+----------------------+-------------------+----------------+----------+----------------+----------------------+-------------------+----------------+\n",
       "..."
      ]
     },
     "execution_count": 25,
     "metadata": {},
     "output_type": "execute_result"
    }
   ],
   "source": [
    "import pandas as pd\n",
    "etl.fromdb(connection, 'SELECT * FROM foobar9')"
   ]
  },
  {
   "cell_type": "markdown",
   "metadata": {},
   "source": [
    "Just like hax.minitrees.load, we got a dataframe back. At the moment you can only load one run at a time (but of course this should change).\n",
    "\n",
    "Though it's not related to strax, let's make a quick plot of the events we just loaded:"
   ]
  },
  {
   "cell_type": "code",
   "execution_count": 11,
   "metadata": {},
   "outputs": [
    {
     "data": {
      "image/png": "[encoded data removed]",
      "text/plain": [
       "<Figure size 432x288 with 2 Axes>"
      ]
     },
     "metadata": {},
     "output_type": "display_data"
    }
   ],
   "source": [
    "import matplotlib.pyplot as plt\n",
    "%matplotlib inline\n",
    "\n",
    "def event_plot(df):\n",
    "    plt.scatter(df.s1_area, df.s2_area,\n",
    "                c=df.s1_area_fraction_top,\n",
    "                vmin=0, vmax=0.3, \n",
    "                s=10,\n",
    "                cmap=plt.cm.jet,\n",
    "                marker='.', edgecolors='none')\n",
    "    plt.colorbar(label=\"S1 area fraction top\", extend='max')\n",
    "    plt.xlabel('S1 (PE)')\n",
    "    plt.ylabel('S2 (PE)')\n",
    "    plt.xscale('symlog')\n",
    "    plt.yscale('log')\n",
    "    plt.ylim(1e2, 1e7)\n",
    "    \n",
    "event_plot(df)"
   ]
  },
  {
   "cell_type": "markdown",
   "metadata": {},
   "source": [
    "Can you figure out what kind of data this is?"
   ]
  },
  {
   "cell_type": "markdown",
   "metadata": {},
   "source": [
    "## Waveform analysis"
   ]
  },
  {
   "cell_type": "markdown",
   "metadata": {},
   "source": [
    "Currently strax does not have a dedicated waveform plotter yet. However, a key feature is that the *peaks* array contains the sum waveform information:"
   ]
  },
  {
   "cell_type": "code",
   "execution_count": 12,
   "metadata": {},
   "outputs": [
    {
     "data": {
      "text/html": [
       "<div>\n",
       "<style scoped>\n",
       "    .dataframe tbody tr th:only-of-type {\n",
       "        vertical-align: middle;\n",
       "    }\n",
       "\n",
       "    .dataframe tbody tr th {\n",
       "        vertical-align: top;\n",
       "    }\n",
       "\n",
       "    .dataframe thead th {\n",
       "        text-align: right;\n",
       "    }\n",
       "</style>\n",
       "<table border=\"1\" class=\"dataframe\">\n",
       "  <thead>\n",
       "    <tr style=\"text-align: right;\">\n",
       "      <th></th>\n",
       "      <th>Field name</th>\n",
       "      <th>Data type</th>\n",
       "      <th>Comment</th>\n",
       "    </tr>\n",
       "  </thead>\n",
       "  <tbody>\n",
       "    <tr>\n",
       "      <th>0</th>\n",
       "      <td>channel</td>\n",
       "      <td>int16</td>\n",
       "      <td>Channel/PMT number</td>\n",
       "    </tr>\n",
       "    <tr>\n",
       "      <th>1</th>\n",
       "      <td>dt</td>\n",
       "      <td>int16</td>\n",
       "      <td>Time resolution in ns</td>\n",
       "    </tr>\n",
       "    <tr>\n",
       "      <th>2</th>\n",
       "      <td>time</td>\n",
       "      <td>int64</td>\n",
       "      <td>Start time of the interval (ns since unix epoch)</td>\n",
       "    </tr>\n",
       "    <tr>\n",
       "      <th>3</th>\n",
       "      <td>length</td>\n",
       "      <td>int32</td>\n",
       "      <td>Length of the interval in samples</td>\n",
       "    </tr>\n",
       "    <tr>\n",
       "      <th>4</th>\n",
       "      <td>area</td>\n",
       "      <td>float32</td>\n",
       "      <td>Integral across channels in photoelectrons</td>\n",
       "    </tr>\n",
       "    <tr>\n",
       "      <th>5</th>\n",
       "      <td>area_per_channel</td>\n",
       "      <td>('&lt;i4', (260,))</td>\n",
       "      <td>Integral per channel in ADX x samples (not PE!)</td>\n",
       "    </tr>\n",
       "    <tr>\n",
       "      <th>6</th>\n",
       "      <td>n_hits</td>\n",
       "      <td>int16</td>\n",
       "      <td>Number of hits from which peak was constructed (currently zero if peak is split afterwards)</td>\n",
       "    </tr>\n",
       "    <tr>\n",
       "      <th>7</th>\n",
       "      <td>data</td>\n",
       "      <td>('&lt;f4', (200,))</td>\n",
       "      <td>Waveform data in PE/sample (not PE/ns!)</td>\n",
       "    </tr>\n",
       "    <tr>\n",
       "      <th>8</th>\n",
       "      <td>width</td>\n",
       "      <td>('&lt;f4', (11,))</td>\n",
       "      <td>Peak widths in ns: range of central area fraction</td>\n",
       "    </tr>\n",
       "  </tbody>\n",
       "</table>\n",
       "</div>"
      ],
      "text/plain": [
       "         Field name        Data type  \\\n",
       "0           channel            int16   \n",
       "1                dt            int16   \n",
       "2              time            int64   \n",
       "3            length            int32   \n",
       "4              area          float32   \n",
       "5  area_per_channel  ('<i4', (260,))   \n",
       "6            n_hits            int16   \n",
       "7              data  ('<f4', (200,))   \n",
       "8             width   ('<f4', (11,))   \n",
       "\n",
       "                                                                                       Comment  \n",
       "0                                                                           Channel/PMT number  \n",
       "1                                                                        Time resolution in ns  \n",
       "2                                             Start time of the interval (ns since unix epoch)  \n",
       "3                                                            Length of the interval in samples  \n",
       "4                                                   Integral across channels in photoelectrons  \n",
       "5                                              Integral per channel in ADX x samples (not PE!)  \n",
       "6  Number of hits from which peak was constructed (currently zero if peak is split afterwards)  \n",
       "7                                                      Waveform data in PE/sample (not PE/ns!)  \n",
       "8                                            Peak widths in ns: range of central area fraction  "
      ]
     },
     "execution_count": 12,
     "metadata": {},
     "output_type": "execute_result"
    }
   ],
   "source": [
    "st.data_info('peaks')"
   ]
  },
  {
   "cell_type": "markdown",
   "metadata": {},
   "source": [
    "Notice the compound data type of the `data` field and two others (`area_per_channel` and `width`). While we could load this data with get_df, pandas DataFrames which such fields are very inefficient. A better datastructure is numpy arrays:"
   ]
  },
  {
   "cell_type": "code",
   "execution_count": 13,
   "metadata": {},
   "outputs": [
    {
     "data": {
      "text/plain": [
       "(numpy.ndarray,\n",
       " ('channel',\n",
       "  'dt',\n",
       "  'time',\n",
       "  'length',\n",
       "  'area',\n",
       "  'area_per_channel',\n",
       "  'n_hits',\n",
       "  'data',\n",
       "  'width'))"
      ]
     },
     "execution_count": 13,
     "metadata": {},
     "output_type": "execute_result"
    }
   ],
   "source": [
    "peaks = st.get_array(run_id, 'peaks')\n",
    "type(peaks), peaks.dtype.names"
   ]
  },
  {
   "cell_type": "markdown",
   "metadata": {},
   "source": [
    "Now we can plot peak waveforms:"
   ]
  },
  {
   "cell_type": "code",
   "execution_count": 14,
   "metadata": {},
   "outputs": [
    {
     "data": {
      "image/png": "[encoded data removed]",
      "text/plain": [
       "<Figure size 432x288 with 1 Axes>"
      ]
     },
     "metadata": {},
     "output_type": "display_data"
    }
   ],
   "source": [
    "def plot_peak(p, t0=None, **kwargs):\n",
    "    n = p['length']\n",
    "    if t0 is None:\n",
    "        t0 = p['time']\n",
    "    plt.plot((p['time'] - t0) + np.arange(n) * p['dt'], \n",
    "             p['data'][:n] / p['dt'], \n",
    "             linestyle='steps-mid',\n",
    "             **kwargs)\n",
    "    plt.xlabel(\"Time (ns)\")\n",
    "    plt.ylabel(\"Sum waveform (PE / ns)\")\n",
    "\n",
    "plot_peak(peaks[2000])"
   ]
  },
  {
   "cell_type": "code",
   "execution_count": 15,
   "metadata": {},
   "outputs": [
    {
     "data": {
      "image/png": "[encoded data removed]",
      "text/plain": [
       "<Figure size 432x288 with 1 Axes>"
      ]
     },
     "metadata": {},
     "output_type": "display_data"
    }
   ],
   "source": [
    "def plot_peaks(main_i, n_before=0, n_after=0, label_threshold=0):\n",
    "    for i in main_i + np.arange(-n_before, n_after + 1):\n",
    "        p = peaks[i]\n",
    "        label = None\n",
    "        if p['area'] > label_threshold:\n",
    "            label = '%.1f PE, %d ns dt' % (p['area'], p['dt'], )\n",
    "        plot_peak(p,\n",
    "                  t0=peaks[main_i]['time'],\n",
    "                  label=label)\n",
    "    plt.ylim(0, None)\n",
    "    plt.legend(loc='upper right')\n",
    "    plt.yscale('symlog')\n",
    "\n",
    "plot_peaks(943, n_after=1, n_before=1)"
   ]
  },
  {
   "cell_type": "code",
   "execution_count": 16,
   "metadata": {
    "scrolled": false
   },
   "outputs": [
    {
     "data": {
      "image/png": "[encoded data removed]",
      "text/plain": [
       "<Figure size 432x288 with 1 Axes>"
      ]
     },
     "metadata": {},
     "output_type": "display_data"
    }
   ],
   "source": [
    "plot_peaks(1190, n_after=0, n_before=1, label_threshold=50)\n",
    "plt.show()"
   ]
  },
  {
   "cell_type": "markdown",
   "metadata": {},
   "source": [
    "The abrupt termination of the S2 above is due to strax's data reduction."
   ]
  },
  {
   "cell_type": "markdown",
   "metadata": {},
   "source": [
    "## Configuration changes"
   ]
  },
  {
   "cell_type": "markdown",
   "metadata": {},
   "source": [
    "### Motivation"
   ]
  },
  {
   "cell_type": "markdown",
   "metadata": {},
   "source": [
    "The following was just as easy as loading data with `hax.minitrees`. However, strax also makes some things that were very difficult with pax/hax easy too. \n",
    "\n",
    "As you can see in the above plot, we have many events high up in the TPC at low S1. Perhaps you might want to get rid of them by increasing the 'S1 coincidence requirement', i.e. the number of PMTs that must see something before a peak is labeled as S1. Then, of course, you want to load the event-level data again to see if it worked."
   ]
  },
  {
   "cell_type": "markdown",
   "metadata": {
    "heading_collapsed": true
   },
   "source": [
    "#### How it works in pax/hax"
   ]
  },
  {
   "cell_type": "markdown",
   "metadata": {
    "hidden": true
   },
   "source": [
    " * Find out which plugin does S1 classification (search on github?)\n",
    " * Look at source code to see what options it takes\n",
    " * Make custom ini or at least `--config_str` option (look up syntax)\n",
    " * Either\n",
    "   * Download raw data from rucio (zzzz...)\n",
    "   * Reprocess data with pax from scratch (look up syntax)\n",
    " * Or: \n",
    "   * Do partial reprocessing, if you can figure out what fields you can load from ROOT file and what plugins are safe to run, then make custom ini that does that, etc...\n",
    " * Point hax to folder with results (using `hax.init`) and figure out how to get hax to ignore the runs db (`pax_version_policy`? `use_run_db`?)\n",
    " * (couple retries because we rely on undocumented file naming conventions to figure out if data exists)\n",
    " * Use hax.load to remake the minitrees you want.\n"
   ]
  },
  {
   "cell_type": "markdown",
   "metadata": {},
   "source": [
    "### How it works in strax"
   ]
  },
  {
   "cell_type": "markdown",
   "metadata": {},
   "source": [
    "First, we need to see which configuration option we have to change. Since strax plugins declare explicitly what configuration they take and what other plugins they depend on, this can be done automatically. We just ask which options with `s1` in their name influence `event_basics`:"
   ]
  },
  {
   "cell_type": "code",
   "execution_count": 17,
   "metadata": {},
   "outputs": [
    {
     "data": {
      "text/html": [
       "<div>\n",
       "<style scoped>\n",
       "    .dataframe tbody tr th:only-of-type {\n",
       "        vertical-align: middle;\n",
       "    }\n",
       "\n",
       "    .dataframe tbody tr th {\n",
       "        vertical-align: top;\n",
       "    }\n",
       "\n",
       "    .dataframe thead th {\n",
       "        text-align: right;\n",
       "    }\n",
       "</style>\n",
       "<table border=\"1\" class=\"dataframe\">\n",
       "  <thead>\n",
       "    <tr style=\"text-align: right;\">\n",
       "      <th></th>\n",
       "      <th>option</th>\n",
       "      <th>default</th>\n",
       "      <th>current</th>\n",
       "      <th>data_type</th>\n",
       "      <th>help</th>\n",
       "    </tr>\n",
       "  </thead>\n",
       "  <tbody>\n",
       "    <tr>\n",
       "      <th>0</th>\n",
       "      <td>s1_max_width</td>\n",
       "      <td>150</td>\n",
       "      <td>&lt;OMITTED&gt;</td>\n",
       "      <td>peak_classification</td>\n",
       "      <td>Maximum (IQR) width of S1s</td>\n",
       "    </tr>\n",
       "    <tr>\n",
       "      <th>1</th>\n",
       "      <td>s1_min_n_channels</td>\n",
       "      <td>3</td>\n",
       "      <td>&lt;OMITTED&gt;</td>\n",
       "      <td>peak_classification</td>\n",
       "      <td>Minimum number of PMTs that must contribute to a S1</td>\n",
       "    </tr>\n",
       "  </tbody>\n",
       "</table>\n",
       "</div>"
      ],
      "text/plain": [
       "              option  default    current            data_type  \\\n",
       "0       s1_max_width      150  <OMITTED>  peak_classification   \n",
       "1  s1_min_n_channels        3  <OMITTED>  peak_classification   \n",
       "\n",
       "                                                  help  \n",
       "0                           Maximum (IQR) width of S1s  \n",
       "1  Minimum number of PMTs that must contribute to a S1  "
      ]
     },
     "execution_count": 17,
     "metadata": {},
     "output_type": "execute_result"
    }
   ],
   "source": [
    "st.search_config('event_basics', 's1*')"
   ]
  },
  {
   "cell_type": "markdown",
   "metadata": {},
   "source": [
    "Looks like we're after the `s1_min_n_channels option`. Note this is not part of the `event_basics` data type, but of a data type called `peak_classification`. As you can see from the table, this option is not set in the current context, so the default value (3) is used.\n",
    "\n",
    "To try out a different option, just pass it to get_df:"
   ]
  },
  {
   "cell_type": "code",
   "execution_count": 18,
   "metadata": {},
   "outputs": [
    {
     "data": {
      "image/png": "[encoded data removed]",
      "text/plain": [
       "<Figure size 432x288 with 2 Axes>"
      ]
     },
     "metadata": {},
     "output_type": "display_data"
    }
   ],
   "source": [
    "df_2 = st.get_df(run_id, 'event_basics',\n",
    "                 config=dict(s1_min_n_channels=50))\n",
    "event_plot(df_2)"
   ]
  },
  {
   "cell_type": "markdown",
   "metadata": {},
   "source": [
    "Notice all the small S1 events are indeed gone now.\n",
    "\n",
    "Behind the scenes, this figured out which dataframes had to be remade: as it happens this time just `event_basics` and `peak_basics`. You will now have a new `event_basics_<somehash>` folder in `./custom_data` which contains the results, as well as a new `peak_basics_<somehash> folder`."
   ]
  },
  {
   "cell_type": "markdown",
   "metadata": {},
   "source": [
    "### More on configuration changes"
   ]
  },
  {
   "cell_type": "markdown",
   "metadata": {},
   "source": [
    "Changing configuration can be done in two other ways. We can change it permanently in the current context:\n",
    "\n",
    "    st.set_config(dict(s1_min_channels=50))\n",
    "    \n",
    "Or we could make a new context, with this option set:\n",
    "    \n",
    "    st_2 = st.new_context(config=dict(s1_min_channels=50))\n",
    "    \n",
    "(feeding it to get_df just does the latter behind the scenes)."
   ]
  },
  {
   "cell_type": "markdown",
   "metadata": {},
   "source": [
    "Strax also protects you from typos in the configuration. Suppose we typed `s1_min_n_channelz` instead:"
   ]
  },
  {
   "cell_type": "code",
   "execution_count": 19,
   "metadata": {},
   "outputs": [
    {
     "name": "stderr",
     "output_type": "stream",
     "text": [
      "/Users/tunnell/Work/AxFoundation/strax_tunnell/strax/core.py:238: UserWarning: Option s1_min_n_channelz not taken by any registered plugin\n",
      "  warnings.warn(f\"Option {k} not taken by any registered plugin\")\n"
     ]
    },
    {
     "data": {
      "image/png": "[encoded data removed]",
      "text/plain": [
       "<Figure size 432x288 with 2 Axes>"
      ]
     },
     "metadata": {},
     "output_type": "display_data"
    }
   ],
   "source": [
    "df_2 = st.get_df(run_id, 'event_basics',\n",
    "                 config=dict(s1_min_n_channelz=10))\n",
    "event_plot(df_2)"
   ]
  },
  {
   "cell_type": "markdown",
   "metadata": {},
   "source": [
    "The result of get_df is just the same as if the option wasn't set (just like in pax/hax), but you also get a warning about an unknown configuration option. "
   ]
  },
  {
   "cell_type": "markdown",
   "metadata": {},
   "source": [
    "## Heavy customization: new plugins"
   ]
  },
  {
   "cell_type": "markdown",
   "metadata": {},
   "source": [
    "As it happens, changing the S1 coincidence requirement is not even configurable in pax, it's hardcoded:\n",
    "  * https://github.com/XENON1T/pax/blob/master/pax/plugins/peak_processing/ClassifyPeaks.py#L29\n",
    "\n",
    "Thus you have to do even more work: either install pax in developer mode, or write your own custom plugin, find out how to get pax to see it, change the config to use it, etc.\n",
    "\n",
    "In hax you would make a custom minitree maker in this case. You can do the same with strax plugin.\n",
    "\n",
    "Suppose you have a brilliant new idea for peak classification:"
   ]
  },
  {
   "cell_type": "code",
   "execution_count": 20,
   "metadata": {},
   "outputs": [],
   "source": [
    "import numpy as np\n",
    "\n",
    "class AdvancedExpertClassification(strax.Plugin):\n",
    "    \"\"\"Everything is an S1!\"\"\"\n",
    "    provides = 'peak_classification'\n",
    "    depends_on = ('peak_basics',)\n",
    "    dtype = strax.xenon.plugins.PeakClassification.dtype\n",
    "\n",
    "    def compute(self, peaks):\n",
    "        return dict(type=np.ones(len(peaks)))"
   ]
  },
  {
   "cell_type": "markdown",
   "metadata": {},
   "source": [
    "[TODO: explain how to understand plugins like this. Also mention hax-like treemakers, see strax.xenon.plugins.LargestS2Area]"
   ]
  },
  {
   "cell_type": "markdown",
   "metadata": {},
   "source": [
    "Notice the plugin provides 'peak_classification' and produces the same data type as PeakClassification plugin, which in this case is just:"
   ]
  },
  {
   "cell_type": "code",
   "execution_count": 21,
   "metadata": {},
   "outputs": [
    {
     "data": {
      "text/plain": [
       "[('type', numpy.int8, 'Classification of the peak.')]"
      ]
     },
     "execution_count": 21,
     "metadata": {},
     "output_type": "execute_result"
    }
   ],
   "source": [
    "strax.xenon.plugins.PeakClassification.dtype"
   ]
  },
  {
   "cell_type": "markdown",
   "metadata": {},
   "source": [
    "To use it in place of PeakClassification, we only have to register it. Again, we can do so permanently using `st.register(AdvancedExpertClassification)` or temporarily by feeding it to `get_df`:"
   ]
  },
  {
   "cell_type": "code",
   "execution_count": 22,
   "metadata": {},
   "outputs": [
    {
     "name": "stdout",
     "output_type": "stream",
     "text": [
      "CPU times: user 162 ms, sys: 23 ms, total: 185 ms\n",
      "Wall time: 165 ms\n"
     ]
    }
   ],
   "source": [
    "%%time\n",
    "df = st.get_df(run_id, 'event_basics',\n",
    "               register=AdvancedExpertClassification)"
   ]
  },
  {
   "cell_type": "code",
   "execution_count": 23,
   "metadata": {},
   "outputs": [
    {
     "data": {
      "text/plain": [
       "(-1, 1)"
      ]
     },
     "execution_count": 23,
     "metadata": {},
     "output_type": "execute_result"
    },
    {
     "data": {
      "image/png": "[encoded data removed]",
      "text/plain": [
       "<Figure size 432x288 with 2 Axes>"
      ]
     },
     "metadata": {},
     "output_type": "display_data"
    }
   ],
   "source": [
    "event_plot(df)\n",
    "plt.yscale('linear')\n",
    "plt.ylim(-1, 1)"
   ]
  },
  {
   "cell_type": "markdown",
   "metadata": {},
   "source": [
    "As you can see, all events are now S1-only events, as expected. Maybe this is not the best alternative classification :-)"
   ]
  }
 ],
 "metadata": {
  "kernelspec": {
   "display_name": "Python 3",
   "language": "python",
   "name": "python3"
  },
  "language_info": {
   "codemirror_mode": {
    "name": "ipython",
    "version": 3
   },
   "file_extension": ".py",
   "mimetype": "text/x-python",
   "name": "python",
   "nbconvert_exporter": "python",
   "pygments_lexer": "ipython3",
   "version": "3.6.5"
  }
 },
 "nbformat": 4,
 "nbformat_minor": 2
}
